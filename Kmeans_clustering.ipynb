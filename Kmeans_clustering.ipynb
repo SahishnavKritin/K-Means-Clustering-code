{
 "cells": [
  {
   "cell_type": "markdown",
   "id": "1bed72ea",
   "metadata": {},
   "source": [
    "K-Means Clustering"
   ]
  },
  {
   "cell_type": "code",
   "execution_count": 116,
   "id": "9b34de34",
   "metadata": {},
   "outputs": [],
   "source": [
    "import numpy as np\n",
    "import pandas as pd\n",
    "import matplotlib.pyplot as plt\n",
    "import random"
   ]
  },
  {
   "cell_type": "code",
   "execution_count": 2,
   "id": "dd0d12a5",
   "metadata": {},
   "outputs": [],
   "source": [
    "def indexing(X, G):\n",
    "    K = G.shape[0]\n",
    "    index = np.zeros(X.shape[0], dtype=int)\n",
    "    for i in range(X.shape[0]):\n",
    "        dists = [] \n",
    "        for j in range(G.shape[0]):\n",
    "            dist = np.linalg.norm(X[i] - G[j])\n",
    "            dists.append(dist)\n",
    "        index[i] = np.argmin(dists)\n",
    "    return index"
   ]
  },
  {
   "cell_type": "code",
   "execution_count": 3,
   "id": "cb5b07c8",
   "metadata": {},
   "outputs": [],
   "source": [
    "def centroids(X, index, K):\n",
    "    m, n = X.shape\n",
    "    G = np.zeros((K, n))\n",
    "    for k in range(K):   \n",
    "        points = X[index == k]\n",
    "        G[k] = np.mean(points, axis = 0)\n",
    "    return G"
   ]
  },
  {
   "cell_type": "code",
   "execution_count": 4,
   "id": "4d769d7d",
   "metadata": {},
   "outputs": [],
   "source": [
    "def kmeans(X, K, num_iters):\n",
    "    indices = np.random.permutation(X.shape[0])\n",
    "    G = X[indices[:K]] \n",
    "    m, n = X.shape\n",
    "    idx = np.zeros(m)\n",
    "    for i in range(num_iters):\n",
    "        index = indexing(X, G)\n",
    "        G = centroids(X, index, K) \n",
    "    return G, index"
   ]
  },
  {
   "cell_type": "code",
   "execution_count": 135,
   "id": "54119f76",
   "metadata": {},
   "outputs": [],
   "source": [
    "def randpts(centre,r):\n",
    "    x,y=centre[0],centre[1]\n",
    "    pts=[]\n",
    "    for i in range(1000):\n",
    "        Pt=np.array([random.uniform(x-r,x+r),random.uniform(y-r,y+r)])\n",
    "        if (np.linalg.norm(Pt - centre)<=r):\n",
    "            pts.append(list(Pt))\n",
    "        if (len(pts)==10):\n",
    "            break\n",
    "    return pts"
   ]
  },
  {
   "cell_type": "code",
   "execution_count": 207,
   "id": "cc9c8d05",
   "metadata": {},
   "outputs": [
    {
     "data": {
      "text/plain": [
       "<matplotlib.collections.PathCollection at 0x252ae8e7310>"
      ]
     },
     "execution_count": 207,
     "metadata": {},
     "output_type": "execute_result"
    },
    {
     "data": {
      "image/png": "[encoded data removed]",
      "text/plain": [
       "<Figure size 432x288 with 1 Axes>"
      ]
     },
     "metadata": {
      "needs_background": "light"
     },
     "output_type": "display_data"
    }
   ],
   "source": [
    "pts=randpts([3,3],2)+randpts([7,7],2)+randpts([11,11],2)\n",
    "x=[]\n",
    "y=[]\n",
    "for i in range(30):\n",
    "    x.append(pts[i][0])\n",
    "    y.append(pts[i][1])\n",
    "plt.scatter(x,y)"
   ]
  },
  {
   "cell_type": "code",
   "execution_count": 151,
   "id": "79d6b500",
   "metadata": {},
   "outputs": [
    {
     "data": {
      "text/html": [
       "<div>\n",
       "<style scoped>\n",
       "    .dataframe tbody tr th:only-of-type {\n",
       "        vertical-align: middle;\n",
       "    }\n",
       "\n",
       "    .dataframe tbody tr th {\n",
       "        vertical-align: top;\n",
       "    }\n",
       "\n",
       "    .dataframe thead th {\n",
       "        text-align: right;\n",
       "    }\n",
       "</style>\n",
       "<table border=\"1\" class=\"dataframe\">\n",
       "  <thead>\n",
       "    <tr style=\"text-align: right;\">\n",
       "      <th></th>\n",
       "      <th>x</th>\n",
       "      <th>y</th>\n",
       "    </tr>\n",
       "  </thead>\n",
       "  <tbody>\n",
       "    <tr>\n",
       "      <th>0</th>\n",
       "      <td>3.319939</td>\n",
       "      <td>3.099588</td>\n",
       "    </tr>\n",
       "    <tr>\n",
       "      <th>1</th>\n",
       "      <td>4.121497</td>\n",
       "      <td>4.026660</td>\n",
       "    </tr>\n",
       "    <tr>\n",
       "      <th>2</th>\n",
       "      <td>4.518192</td>\n",
       "      <td>3.042002</td>\n",
       "    </tr>\n",
       "    <tr>\n",
       "      <th>3</th>\n",
       "      <td>3.052907</td>\n",
       "      <td>3.090191</td>\n",
       "    </tr>\n",
       "    <tr>\n",
       "      <th>4</th>\n",
       "      <td>4.567326</td>\n",
       "      <td>3.575462</td>\n",
       "    </tr>\n",
       "  </tbody>\n",
       "</table>\n",
       "</div>"
      ],
      "text/plain": [
       "          x         y\n",
       "0  3.319939  3.099588\n",
       "1  4.121497  4.026660\n",
       "2  4.518192  3.042002\n",
       "3  3.052907  3.090191\n",
       "4  4.567326  3.575462"
      ]
     },
     "execution_count": 151,
     "metadata": {},
     "output_type": "execute_result"
    }
   ],
   "source": [
    "df = pd.DataFrame(pts, columns=['x', 'y'])\n",
    "df.to_csv('clustering.csv', index=False)\n",
    "df.head()"
   ]
  },
  {
   "cell_type": "code",
   "execution_count": 174,
   "id": "d36145cf",
   "metadata": {},
   "outputs": [
    {
     "name": "stdout",
     "output_type": "stream",
     "text": [
      "<class 'numpy.ndarray'>\n"
     ]
    }
   ],
   "source": [
    "X=np.array(pts)"
   ]
  },
  {
   "cell_type": "code",
   "execution_count": 265,
   "id": "977b998d",
   "metadata": {},
   "outputs": [
    {
     "data": {
      "image/png": "[encoded data removed]",
      "text/plain": [
       "<Figure size 432x288 with 1 Axes>"
      ]
     },
     "metadata": {
      "needs_background": "light"
     },
     "output_type": "display_data"
    },
    {
     "data": {
      "image/png": "[encoded data removed]",
      "text/plain": [
       "<Figure size 432x288 with 1 Axes>"
      ]
     },
     "metadata": {
      "needs_background": "light"
     },
     "output_type": "display_data"
    },
    {
     "data": {
      "image/png": "[encoded data removed]",
      "text/plain": [
       "<Figure size 432x288 with 1 Axes>"
      ]
     },
     "metadata": {
      "needs_background": "light"
     },
     "output_type": "display_data"
    },
    {
     "data": {
      "image/png": "[encoded data removed]",
      "text/plain": [
       "<Figure size 432x288 with 1 Axes>"
      ]
     },
     "metadata": {
      "needs_background": "light"
     },
     "output_type": "display_data"
    },
    {
     "data": {
      "image/png": "[encoded data removed]",
      "text/plain": [
       "<Figure size 432x288 with 1 Axes>"
      ]
     },
     "metadata": {
      "needs_background": "light"
     },
     "output_type": "display_data"
    }
   ],
   "source": [
    "for i in range(1,6):\n",
    "    G,index=kmeans(X, 3, i)\n",
    "    Gx=[]\n",
    "    Gy=[]\n",
    "    for j in range(len(G)):\n",
    "        Gx.append(G[j][0])\n",
    "        Gy.append(G[j][1])\n",
    "    plt.scatter(Gx[0],Gy[0],color=\"red\",s=100, marker=\"^\")\n",
    "    plt.scatter(Gx[1],Gy[1],color=\"blue\",s=100, marker=\"^\")\n",
    "    plt.scatter(Gx[2],Gy[2],color=\"green\",s=100, marker=\"^\")\n",
    "    for j in range(30):\n",
    "        if index[j]==0:\n",
    "            plt.scatter(x[j],y[j],color='red') \n",
    "            \n",
    "        elif index[j]==1:\n",
    "            plt.scatter(x[j],y[j],color='blue')\n",
    "            \n",
    "        elif index[j]==2:\n",
    "            plt.scatter(x[j],y[j],color='green')\n",
    "    plt.title(\"K means plot after \"+str(i)+\"th iteration :\")\n",
    "    plt.show()            \n"
   ]
  },
  {
   "cell_type": "code",
   "execution_count": 242,
   "id": "362eb2b0",
   "metadata": {},
   "outputs": [],
   "source": [
    "def cost(X,K):\n",
    "    m=len(X)\n",
    "    G,index=kmeans(X, K, 4) \n",
    "    cost=0\n",
    "    for i in range(m):\n",
    "        if index[i]==0:\n",
    "            cost+=np.linalg.norm(X[i] - G[0])\n",
    "        elif index[i]==1:\n",
    "            cost+=np.linalg.norm(X[i] - G[1])\n",
    "        elif index[i]==2:\n",
    "            cost+=np.linalg.norm(X[i] - G[2])\n",
    "    return cost/m"
   ]
  },
  {
   "cell_type": "code",
   "execution_count": 253,
   "id": "319c2316",
   "metadata": {},
   "outputs": [
    {
     "data": {
      "text/plain": [
       "[<matplotlib.lines.Line2D at 0x252aeb85dc0>]"
      ]
     },
     "execution_count": 253,
     "metadata": {},
     "output_type": "execute_result"
    },
    {
     "data": {
      "image/png": "[encoded data removed]",
      "text/plain": [
       "<Figure size 432x288 with 1 Axes>"
      ]
     },
     "metadata": {
      "needs_background": "light"
     },
     "output_type": "display_data"
    }
   ],
   "source": [
    "K=[1,2,3,4,5]\n",
    "cost_list=[]\n",
    "for i in range(1,6):\n",
    "    cost_list.append(cost(X,i))\n",
    "plt.title(\"Elbow method\")    \n",
    "plt.plot(K,cost_list)"
   ]
  },
  {
   "cell_type": "markdown",
   "id": "c31df300",
   "metadata": {},
   "source": [
    "The elbow method shows the 3 is the best fit for K. This can be intuitively said by the number of circle centres we used to create the data"
   ]
  },
  {
   "cell_type": "code",
   "execution_count": 266,
   "id": "6a6fc76b",
   "metadata": {},
   "outputs": [
    {
     "data": {
      "image/png": "[encoded data removed]",
      "text/plain": [
       "<Figure size 432x288 with 1 Axes>"
      ]
     },
     "metadata": {
      "needs_background": "light"
     },
     "output_type": "display_data"
    }
   ],
   "source": [
    "G,index=kmeans(X, 3, 3)\n",
    "Gx=[]\n",
    "Gy=[]\n",
    "for j in range(len(G)):\n",
    "    Gx.append(G[j][0])\n",
    "    Gy.append(G[j][1])\n",
    "plt.scatter(Gx[0],Gy[0],color=\"red\",s=100, marker=\"^\")\n",
    "plt.scatter(Gx[1],Gy[1],color=\"blue\",s=100, marker=\"^\")\n",
    "plt.scatter(Gx[2],Gy[2],color=\"green\",s=100, marker=\"^\")\n",
    "for j in range(30):\n",
    "    if index[j]==0:\n",
    "        plt.scatter(x[j],y[j],color='red') \n",
    "\n",
    "    elif index[j]==1:\n",
    "        plt.scatter(x[j],y[j],color='blue')\n",
    "\n",
    "    elif index[j]==2:\n",
    "        plt.scatter(x[j],y[j],color='green')\n",
    "plt.title(\"K-classes for the final K-value of 3 :\")\n",
    "plt.show()"
   ]
  }
 ],
 "metadata": {
  "kernelspec": {
   "display_name": "Python 3 (ipykernel)",
   "language": "python",
   "name": "python3"
  },
  "language_info": {
   "codemirror_mode": {
    "name": "ipython",
    "version": 3
   },
   "file_extension": ".py",
   "mimetype": "text/x-python",
   "name": "python",
   "nbconvert_exporter": "python",
   "pygments_lexer": "ipython3",
   "version": "3.9.7"
  }
 },
 "nbformat": 4,
 "nbformat_minor": 5
}
